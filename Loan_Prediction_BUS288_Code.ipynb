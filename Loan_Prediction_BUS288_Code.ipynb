{
  "nbformat": 4,
  "nbformat_minor": 0,
  "metadata": {
    "colab": {
      "name": "Loan_Prediction_BUS288_Code.ipynb",
      "provenance": [],
      "collapsed_sections": []
    },
    "kernelspec": {
      "name": "python3",
      "display_name": "Python 3"
    },
    "language_info": {
      "name": "python"
    }
  },
  "cells": [
    {
      "cell_type": "markdown",
      "metadata": {
        "id": "GWyp5odbHQrn"
      },
      "source": [
        "# Importing Libraries"
      ]
    },
    {
      "cell_type": "code",
      "metadata": {
        "id": "qiUoXgl75B_0",
        "colab": {
          "base_uri": "https://localhost:8080/"
        },
        "outputId": "723fc2c5-2f00-4f1f-d669-08ee1095f8cb"
      },
      "source": [
        "# scientific computations \n",
        "import numpy as np\n",
        "\n",
        "# data manipulation and transformation\n",
        "import pandas as pd\n",
        "\n",
        "# visualization \n",
        "import matplotlib.pyplot as plt\n",
        "import seaborn as sns\n",
        "\n",
        "# model building\n",
        "from sklearn.preprocessing import StandardScaler\n",
        "from statsmodels.discrete.discrete_model import Logit\n",
        "from sklearn.metrics import roc_auc_score\n",
        "from sklearn.model_selection import train_test_split, GridSearchCV,cross_val_score\n",
        "import statsmodels.tools as sm\n",
        "from sklearn.metrics import accuracy_score, recall_score, roc_auc_score\n",
        "from sklearn.linear_model import LogisticRegression\n",
        "from sklearn.tree import DecisionTreeClassifier,export_graphviz\n",
        "from sklearn.metrics import *\n",
        "from sklearn.tree import *\n",
        "#from sklearn.ensemble import RandomForestClassifier\n",
        "#from sklearn.model_selection import train_test_split, GridSearchCV, cross_val_score,TimeSeriesSplit"
      ],
      "execution_count": null,
      "outputs": [
        {
          "output_type": "stream",
          "text": [
            "/usr/local/lib/python3.7/dist-packages/statsmodels/tools/_testing.py:19: FutureWarning: pandas.util.testing is deprecated. Use the functions in the public API at pandas.testing instead.\n",
            "  import pandas.util.testing as tm\n"
          ],
          "name": "stderr"
        }
      ]
    },
    {
      "cell_type": "markdown",
      "metadata": {
        "id": "XLWPyzIDNrWJ"
      },
      "source": [
        "# Preprocessing"
      ]
    },
    {
      "cell_type": "code",
      "metadata": {
        "id": "ZtCV4MSO5Rko"
      },
      "source": [
        "# importing the data and making a DataFrame \n",
        "loan_data = pd.read_excel(\"loan.xlsx\")"
      ],
      "execution_count": null,
      "outputs": []
    },
    {
      "cell_type": "code",
      "metadata": {
        "colab": {
          "base_uri": "https://localhost:8080/"
        },
        "id": "T8-z-MjeckQa",
        "outputId": "0b0e04d7-4aa2-4b6d-a557-bb5dcbc01231"
      },
      "source": [
        "loan_data.info()"
      ],
      "execution_count": null,
      "outputs": [
        {
          "output_type": "stream",
          "text": [
            "<class 'pandas.core.frame.DataFrame'>\n",
            "RangeIndex: 614 entries, 0 to 613\n",
            "Data columns (total 13 columns):\n",
            " #   Column             Non-Null Count  Dtype  \n",
            "---  ------             --------------  -----  \n",
            " 0   Loan_ID            614 non-null    object \n",
            " 1   Gender             601 non-null    object \n",
            " 2   Married            611 non-null    object \n",
            " 3   Dependents         599 non-null    object \n",
            " 4   Education          614 non-null    object \n",
            " 5   Self_Employed      582 non-null    object \n",
            " 6   ApplicantIncome    614 non-null    int64  \n",
            " 7   CoapplicantIncome  614 non-null    float64\n",
            " 8   LoanAmount         592 non-null    float64\n",
            " 9   Loan_Amount_Term   600 non-null    float64\n",
            " 10  Credit_History     564 non-null    float64\n",
            " 11  Property_Area      614 non-null    object \n",
            " 12  Loan_Status        614 non-null    object \n",
            "dtypes: float64(4), int64(1), object(8)\n",
            "memory usage: 62.5+ KB\n"
          ],
          "name": "stdout"
        }
      ]
    },
    {
      "cell_type": "code",
      "metadata": {
        "id": "3Be1OwXm31-c"
      },
      "source": [
        "# converting dependent variable \"Loan_Status\" to 1s and 0s\n",
        "loan_data['Loan_Status'] = np.where(loan_data['Loan_Status']=='Y',1,0)"
      ],
      "execution_count": null,
      "outputs": []
    },
    {
      "cell_type": "code",
      "metadata": {
        "id": "p0uc04s137vy"
      },
      "source": [
        "# replacing 3+ with 3 to make a \"Dependents\" variable an intiger for further analysis \n",
        "loan_data.Dependents = np.where(loan_data.Dependents==\"3+\",3,loan_data.Dependents)"
      ],
      "execution_count": null,
      "outputs": []
    },
    {
      "cell_type": "code",
      "metadata": {
        "id": "79rmueeh3-w1"
      },
      "source": [
        "# getting rid of \"Loan_ID,\" since it wont affect whether a person will get a loan or not\n",
        "del loan_data[\"Loan_ID\"]"
      ],
      "execution_count": null,
      "outputs": []
    },
    {
      "cell_type": "code",
      "metadata": {
        "colab": {
          "base_uri": "https://localhost:8080/"
        },
        "id": "DPHELao24Cno",
        "outputId": "221e41c0-8a9b-4521-cc32-31709f0c681f"
      },
      "source": [
        "# checking for duplicates, missing values, and single valued columns\n",
        "# wee see that we have 149 missing values\n",
        "print(\"Duplicates:\", loan_data.duplicated().sum())\n",
        "print(\"Missing values:\", loan_data.isna().sum().sum())\n",
        "print(\"Single valued columns:\", loan_data.columns[loan_data.nunique()==1])"
      ],
      "execution_count": null,
      "outputs": [
        {
          "output_type": "stream",
          "text": [
            "Duplicates: 0\n",
            "Missing values: 149\n",
            "Single valued columns: Index([], dtype='object')\n"
          ],
          "name": "stdout"
        }
      ]
    },
    {
      "cell_type": "code",
      "metadata": {
        "id": "ZAhERLqn4Gde"
      },
      "source": [
        "# since we didn't have a \"lot of\" missing values, instead of dropping them, we imputed mean value of the data \n",
        "# not to alter our statistics\n",
        "# NaNs for categorical variables were substituted and then dropped for getting more precise results while \n",
        "# conducting the analysis\n",
        "# in case of dropping all 149 NaNs we would end up having 460 entries instead of 566\n",
        "loan_data.fillna(loan_data.mean(), inplace=True)\n",
        "loan_data[\"Gender\"].fillna(\"No Gender\", inplace = True) \n",
        "loan_data.drop(loan_data.index[loan_data['Gender']==\"No Gender\"], inplace = True)\n",
        "loan_data[\"Married\"].fillna(\"Don't know\", inplace = True) \n",
        "loan_data.drop(loan_data.index[loan_data['Married']==\"Don't know\"], inplace = True)\n",
        "loan_data[\"Self_Employed\"].fillna(\"Don't know\", inplace = True) \n",
        "loan_data.drop(loan_data.index[loan_data['Self_Employed']==\"Don't know\"], inplace = True)"
      ],
      "execution_count": null,
      "outputs": []
    },
    {
      "cell_type": "code",
      "metadata": {
        "colab": {
          "base_uri": "https://localhost:8080/"
        },
        "id": "nGB2Z3Yg4Mob",
        "outputId": "753e9688-6279-4b10-8fc6-0bc168bc44d3"
      },
      "source": [
        "# checking for missing values one more time \n",
        "# now we have none\n",
        "print(\"Missing values:\", loan_data.isna().sum().sum())"
      ],
      "execution_count": null,
      "outputs": [
        {
          "output_type": "stream",
          "text": [
            "Missing values: 0\n"
          ],
          "name": "stdout"
        }
      ]
    },
    {
      "cell_type": "code",
      "metadata": {
        "id": "LaZNNKMQpmA4"
      },
      "source": [
        "# deviding dataet into numbers and objects for further usage\n",
        "data_num = loan_data.select_dtypes(exclude=\"object\")\n",
        "data_obj = loan_data.select_dtypes(include=\"object\")"
      ],
      "execution_count": null,
      "outputs": []
    },
    {
      "cell_type": "markdown",
      "metadata": {
        "id": "butKRAjcfLgv"
      },
      "source": [
        "# Descriptive Analytics"
      ]
    },
    {
      "cell_type": "code",
      "metadata": {
        "colab": {
          "base_uri": "https://localhost:8080/"
        },
        "id": "GxAKY4YJfP8d",
        "outputId": "712e85c0-ff2b-4c6a-9620-d55713500c5b"
      },
      "source": [
        "# dataset overview\n",
        "loan_data.info()"
      ],
      "execution_count": null,
      "outputs": [
        {
          "output_type": "stream",
          "text": [
            "<class 'pandas.core.frame.DataFrame'>\n",
            "Int64Index: 566 entries, 0 to 613\n",
            "Data columns (total 12 columns):\n",
            " #   Column             Non-Null Count  Dtype  \n",
            "---  ------             --------------  -----  \n",
            " 0   Gender             566 non-null    object \n",
            " 1   Married            566 non-null    object \n",
            " 2   Dependents         566 non-null    float64\n",
            " 3   Education          566 non-null    object \n",
            " 4   Self_Employed      566 non-null    object \n",
            " 5   ApplicantIncome    566 non-null    int64  \n",
            " 6   CoapplicantIncome  566 non-null    float64\n",
            " 7   LoanAmount         566 non-null    float64\n",
            " 8   Loan_Amount_Term   566 non-null    float64\n",
            " 9   Credit_History     566 non-null    float64\n",
            " 10  Property_Area      566 non-null    object \n",
            " 11  Loan_Status        566 non-null    int64  \n",
            "dtypes: float64(5), int64(2), object(5)\n",
            "memory usage: 57.5+ KB\n"
          ],
          "name": "stdout"
        }
      ]
    },
    {
      "cell_type": "code",
      "metadata": {
        "colab": {
          "base_uri": "https://localhost:8080/",
          "height": 241
        },
        "id": "eNNELedXfoYS",
        "outputId": "81720b55-b7db-4be8-8415-fc01a2a9c2ce"
      },
      "source": [
        "# viewing first 5 rows of the dataset\n",
        "loan_data.head()"
      ],
      "execution_count": null,
      "outputs": [
        {
          "output_type": "execute_result",
          "data": {
            "text/html": [
              "<div>\n",
              "<style scoped>\n",
              "    .dataframe tbody tr th:only-of-type {\n",
              "        vertical-align: middle;\n",
              "    }\n",
              "\n",
              "    .dataframe tbody tr th {\n",
              "        vertical-align: top;\n",
              "    }\n",
              "\n",
              "    .dataframe thead th {\n",
              "        text-align: right;\n",
              "    }\n",
              "</style>\n",
              "<table border=\"1\" class=\"dataframe\">\n",
              "  <thead>\n",
              "    <tr style=\"text-align: right;\">\n",
              "      <th></th>\n",
              "      <th>Gender</th>\n",
              "      <th>Married</th>\n",
              "      <th>Dependents</th>\n",
              "      <th>Education</th>\n",
              "      <th>Self_Employed</th>\n",
              "      <th>ApplicantIncome</th>\n",
              "      <th>CoapplicantIncome</th>\n",
              "      <th>LoanAmount</th>\n",
              "      <th>Loan_Amount_Term</th>\n",
              "      <th>Credit_History</th>\n",
              "      <th>Property_Area</th>\n",
              "      <th>Loan_Status</th>\n",
              "    </tr>\n",
              "  </thead>\n",
              "  <tbody>\n",
              "    <tr>\n",
              "      <th>0</th>\n",
              "      <td>Male</td>\n",
              "      <td>No</td>\n",
              "      <td>0.0</td>\n",
              "      <td>Graduate</td>\n",
              "      <td>No</td>\n",
              "      <td>5849</td>\n",
              "      <td>0.0</td>\n",
              "      <td>146.412162</td>\n",
              "      <td>360.0</td>\n",
              "      <td>1.0</td>\n",
              "      <td>Urban</td>\n",
              "      <td>1</td>\n",
              "    </tr>\n",
              "    <tr>\n",
              "      <th>1</th>\n",
              "      <td>Male</td>\n",
              "      <td>Yes</td>\n",
              "      <td>1.0</td>\n",
              "      <td>Graduate</td>\n",
              "      <td>No</td>\n",
              "      <td>4583</td>\n",
              "      <td>1508.0</td>\n",
              "      <td>128.000000</td>\n",
              "      <td>360.0</td>\n",
              "      <td>1.0</td>\n",
              "      <td>Rural</td>\n",
              "      <td>0</td>\n",
              "    </tr>\n",
              "    <tr>\n",
              "      <th>2</th>\n",
              "      <td>Male</td>\n",
              "      <td>Yes</td>\n",
              "      <td>0.0</td>\n",
              "      <td>Graduate</td>\n",
              "      <td>Yes</td>\n",
              "      <td>3000</td>\n",
              "      <td>0.0</td>\n",
              "      <td>66.000000</td>\n",
              "      <td>360.0</td>\n",
              "      <td>1.0</td>\n",
              "      <td>Urban</td>\n",
              "      <td>1</td>\n",
              "    </tr>\n",
              "    <tr>\n",
              "      <th>3</th>\n",
              "      <td>Male</td>\n",
              "      <td>Yes</td>\n",
              "      <td>0.0</td>\n",
              "      <td>Not Graduate</td>\n",
              "      <td>No</td>\n",
              "      <td>2583</td>\n",
              "      <td>2358.0</td>\n",
              "      <td>120.000000</td>\n",
              "      <td>360.0</td>\n",
              "      <td>1.0</td>\n",
              "      <td>Urban</td>\n",
              "      <td>1</td>\n",
              "    </tr>\n",
              "    <tr>\n",
              "      <th>4</th>\n",
              "      <td>Male</td>\n",
              "      <td>No</td>\n",
              "      <td>0.0</td>\n",
              "      <td>Graduate</td>\n",
              "      <td>No</td>\n",
              "      <td>6000</td>\n",
              "      <td>0.0</td>\n",
              "      <td>141.000000</td>\n",
              "      <td>360.0</td>\n",
              "      <td>1.0</td>\n",
              "      <td>Urban</td>\n",
              "      <td>1</td>\n",
              "    </tr>\n",
              "  </tbody>\n",
              "</table>\n",
              "</div>"
            ],
            "text/plain": [
              "  Gender Married  Dependents  ... Credit_History Property_Area  Loan_Status\n",
              "0   Male      No         0.0  ...            1.0         Urban            1\n",
              "1   Male     Yes         1.0  ...            1.0         Rural            0\n",
              "2   Male     Yes         0.0  ...            1.0         Urban            1\n",
              "3   Male     Yes         0.0  ...            1.0         Urban            1\n",
              "4   Male      No         0.0  ...            1.0         Urban            1\n",
              "\n",
              "[5 rows x 12 columns]"
            ]
          },
          "metadata": {
            "tags": []
          },
          "execution_count": 12
        }
      ]
    },
    {
      "cell_type": "code",
      "metadata": {
        "colab": {
          "base_uri": "https://localhost:8080/",
          "height": 297
        },
        "id": "YkEfcsWtf6zT",
        "outputId": "d9f6b7a7-1493-461f-9ce7-a078aa519d04"
      },
      "source": [
        "# summary statistics\n",
        "loan_data.describe()"
      ],
      "execution_count": null,
      "outputs": [
        {
          "output_type": "execute_result",
          "data": {
            "text/html": [
              "<div>\n",
              "<style scoped>\n",
              "    .dataframe tbody tr th:only-of-type {\n",
              "        vertical-align: middle;\n",
              "    }\n",
              "\n",
              "    .dataframe tbody tr th {\n",
              "        vertical-align: top;\n",
              "    }\n",
              "\n",
              "    .dataframe thead th {\n",
              "        text-align: right;\n",
              "    }\n",
              "</style>\n",
              "<table border=\"1\" class=\"dataframe\">\n",
              "  <thead>\n",
              "    <tr style=\"text-align: right;\">\n",
              "      <th></th>\n",
              "      <th>Dependents</th>\n",
              "      <th>ApplicantIncome</th>\n",
              "      <th>CoapplicantIncome</th>\n",
              "      <th>LoanAmount</th>\n",
              "      <th>Loan_Amount_Term</th>\n",
              "      <th>Credit_History</th>\n",
              "      <th>Loan_Status</th>\n",
              "    </tr>\n",
              "  </thead>\n",
              "  <tbody>\n",
              "    <tr>\n",
              "      <th>count</th>\n",
              "      <td>566.000000</td>\n",
              "      <td>566.000000</td>\n",
              "      <td>566.000000</td>\n",
              "      <td>566.000000</td>\n",
              "      <td>566.000000</td>\n",
              "      <td>566.000000</td>\n",
              "      <td>566.000000</td>\n",
              "    </tr>\n",
              "    <tr>\n",
              "      <th>mean</th>\n",
              "      <td>0.759992</td>\n",
              "      <td>5259.971731</td>\n",
              "      <td>1579.146502</td>\n",
              "      <td>144.541066</td>\n",
              "      <td>342.201413</td>\n",
              "      <td>0.837835</td>\n",
              "      <td>0.685512</td>\n",
              "    </tr>\n",
              "    <tr>\n",
              "      <th>std</th>\n",
              "      <td>1.000062</td>\n",
              "      <td>5412.901682</td>\n",
              "      <td>2507.243865</td>\n",
              "      <td>80.420869</td>\n",
              "      <td>64.699018</td>\n",
              "      <td>0.354956</td>\n",
              "      <td>0.464722</td>\n",
              "    </tr>\n",
              "    <tr>\n",
              "      <th>min</th>\n",
              "      <td>0.000000</td>\n",
              "      <td>150.000000</td>\n",
              "      <td>0.000000</td>\n",
              "      <td>9.000000</td>\n",
              "      <td>12.000000</td>\n",
              "      <td>0.000000</td>\n",
              "      <td>0.000000</td>\n",
              "    </tr>\n",
              "    <tr>\n",
              "      <th>25%</th>\n",
              "      <td>0.000000</td>\n",
              "      <td>2877.500000</td>\n",
              "      <td>0.000000</td>\n",
              "      <td>100.000000</td>\n",
              "      <td>360.000000</td>\n",
              "      <td>1.000000</td>\n",
              "      <td>0.000000</td>\n",
              "    </tr>\n",
              "    <tr>\n",
              "      <th>50%</th>\n",
              "      <td>0.000000</td>\n",
              "      <td>3839.500000</td>\n",
              "      <td>1149.000000</td>\n",
              "      <td>128.000000</td>\n",
              "      <td>360.000000</td>\n",
              "      <td>1.000000</td>\n",
              "      <td>1.000000</td>\n",
              "    </tr>\n",
              "    <tr>\n",
              "      <th>75%</th>\n",
              "      <td>1.000000</td>\n",
              "      <td>5811.250000</td>\n",
              "      <td>2297.250000</td>\n",
              "      <td>165.000000</td>\n",
              "      <td>360.000000</td>\n",
              "      <td>1.000000</td>\n",
              "      <td>1.000000</td>\n",
              "    </tr>\n",
              "    <tr>\n",
              "      <th>max</th>\n",
              "      <td>3.000000</td>\n",
              "      <td>81000.000000</td>\n",
              "      <td>33837.000000</td>\n",
              "      <td>650.000000</td>\n",
              "      <td>480.000000</td>\n",
              "      <td>1.000000</td>\n",
              "      <td>1.000000</td>\n",
              "    </tr>\n",
              "  </tbody>\n",
              "</table>\n",
              "</div>"
            ],
            "text/plain": [
              "       Dependents  ApplicantIncome  ...  Credit_History  Loan_Status\n",
              "count  566.000000       566.000000  ...      566.000000   566.000000\n",
              "mean     0.759992      5259.971731  ...        0.837835     0.685512\n",
              "std      1.000062      5412.901682  ...        0.354956     0.464722\n",
              "min      0.000000       150.000000  ...        0.000000     0.000000\n",
              "25%      0.000000      2877.500000  ...        1.000000     0.000000\n",
              "50%      0.000000      3839.500000  ...        1.000000     1.000000\n",
              "75%      1.000000      5811.250000  ...        1.000000     1.000000\n",
              "max      3.000000     81000.000000  ...        1.000000     1.000000\n",
              "\n",
              "[8 rows x 7 columns]"
            ]
          },
          "metadata": {
            "tags": []
          },
          "execution_count": 13
        }
      ]
    },
    {
      "cell_type": "code",
      "metadata": {
        "colab": {
          "base_uri": "https://localhost:8080/"
        },
        "id": "P1Nhw4hygDpH",
        "outputId": "6a6b635c-fbd4-4c49-bd1c-a9bbad47d27b"
      },
      "source": [
        "# counting the benchmark for getting a loan \n",
        "# 68.6% of customers get a loan, meaning that the new customer most probably \n",
        "# will be classified as 1 \n",
        "loan_data.Loan_Status.value_counts(normalize=True).mul(100).rename(\"Loan percentage\")"
      ],
      "execution_count": null,
      "outputs": [
        {
          "output_type": "execute_result",
          "data": {
            "text/plain": [
              "1    68.551237\n",
              "0    31.448763\n",
              "Name: Loan percentage, dtype: float64"
            ]
          },
          "metadata": {
            "tags": []
          },
          "execution_count": 14
        }
      ]
    },
    {
      "cell_type": "code",
      "metadata": {
        "colab": {
          "base_uri": "https://localhost:8080/"
        },
        "id": "sRL0FQUZhl_5",
        "outputId": "ddca7e07-ebd6-46bf-f325-78580b10c569"
      },
      "source": [
        "# viewing how many unique values there are in the data\n",
        "loan_data.nunique()"
      ],
      "execution_count": null,
      "outputs": [
        {
          "output_type": "execute_result",
          "data": {
            "text/plain": [
              "Gender                 2\n",
              "Married                2\n",
              "Dependents             5\n",
              "Education              2\n",
              "Self_Employed          2\n",
              "ApplicantIncome      473\n",
              "CoapplicantIncome    273\n",
              "LoanAmount           195\n",
              "Loan_Amount_Term      11\n",
              "Credit_History         3\n",
              "Property_Area          3\n",
              "Loan_Status            2\n",
              "dtype: int64"
            ]
          },
          "metadata": {
            "tags": []
          },
          "execution_count": 15
        }
      ]
    },
    {
      "cell_type": "markdown",
      "metadata": {
        "id": "_zAJ78_3h0XC"
      },
      "source": [
        "# Data Visualization "
      ]
    },
    {
      "cell_type": "code",
      "metadata": {
        "colab": {
          "base_uri": "https://localhost:8080/",
          "height": 676
        },
        "id": "Z6rqFDvZ4Q4r",
        "outputId": "bf8edc59-5f47-46c4-ed0a-63d343ec82d6"
      },
      "source": [
        "# visualizing distribution of our dependent variable\n",
        "plt.figure(figsize=(20,10))\n",
        "sns.countplot(loan_data.Loan_Status)\n",
        "plt.title(\"Distribution of Loan Status\")\n",
        "plt.show()"
      ],
      "execution_count": null,
      "outputs": [
        {
          "output_type": "stream",
          "text": [
            "/usr/local/lib/python3.7/dist-packages/seaborn/_decorators.py:43: FutureWarning: Pass the following variable as a keyword arg: x. From version 0.12, the only valid positional argument will be `data`, and passing other arguments without an explicit keyword will result in an error or misinterpretation.\n",
            "  FutureWarning\n"
          ],
          "name": "stderr"
        },
        {
          "output_type": "display_data",
          "data": {
            "image/png": "[encoded data removed]",
            "text/plain": [
              "<Figure size 1440x720 with 1 Axes>"
            ]
          },
          "metadata": {
            "tags": [],
            "needs_background": "light"
          }
        }
      ]
    },
    {
      "cell_type": "code",
      "metadata": {
        "colab": {
          "base_uri": "https://localhost:8080/",
          "height": 350
        },
        "id": "50RxbUIgis3M",
        "outputId": "13cb2d88-7f90-4018-8269-f5492cfef8d1"
      },
      "source": [
        "# visualizing property area by gender \n",
        "plt.figure(figsize=(15,5))\n",
        "sns.barplot(x=\"Gender\", y=\"Loan_Status\", hue=\"Property_Area\", data=loan_data)\n",
        "plt.title(\"Property Area by Gender\")\n",
        "plt.show()"
      ],
      "execution_count": null,
      "outputs": [
        {
          "output_type": "display_data",
          "data": {
            "image/png": "[encoded data removed]",
            "text/plain": [
              "<Figure size 1080x360 with 1 Axes>"
            ]
          },
          "metadata": {
            "tags": [],
            "needs_background": "light"
          }
        }
      ]
    },
    {
      "cell_type": "code",
      "metadata": {
        "colab": {
          "base_uri": "https://localhost:8080/",
          "height": 351
        },
        "id": "uSEQ_8nVnMNv",
        "outputId": "1f0871b2-3be6-462a-aed8-17ea0a5512da"
      },
      "source": [
        "# visualizing Loan_Status by Education\n",
        "loan_data.groupby(by=\"Education\")[\"Loan_Status\"].mean().plot(kind='bar', figsize=(15,5), rot=0)"
      ],
      "execution_count": null,
      "outputs": [
        {
          "output_type": "execute_result",
          "data": {
            "text/plain": [
              "<matplotlib.axes._subplots.AxesSubplot at 0x7f4dcafb1550>"
            ]
          },
          "metadata": {
            "tags": []
          },
          "execution_count": 18
        },
        {
          "output_type": "display_data",
          "data": {
            "image/png": "[encoded data removed]",
            "text/plain": [
              "<Figure size 1080x360 with 1 Axes>"
            ]
          },
          "metadata": {
            "tags": [],
            "needs_background": "light"
          }
        }
      ]
    },
    {
      "cell_type": "code",
      "metadata": {
        "colab": {
          "base_uri": "https://localhost:8080/",
          "height": 1000
        },
        "id": "sJ5fCq0dpv7E",
        "outputId": "cf087448-952d-4cf6-acab-1a246d2b938f"
      },
      "source": [
        "# visualizing boxplots for numerical variables\n",
        "for i in data_num.columns.tolist():\n",
        "    plt.boxplot(loan_data[i])\n",
        "    plt.xlabel(i)\n",
        "    plt.show()"
      ],
      "execution_count": null,
      "outputs": [
        {
          "output_type": "display_data",
          "data": {
            "image/png": "[encoded data removed]",
            "text/plain": [
              "<Figure size 432x288 with 1 Axes>"
            ]
          },
          "metadata": {
            "tags": [],
            "needs_background": "light"
          }
        },
        {
          "output_type": "display_data",
          "data": {
            "image/png": "[encoded data removed]",
            "text/plain": [
              "<Figure size 432x288 with 1 Axes>"
            ]
          },
          "metadata": {
            "tags": [],
            "needs_background": "light"
          }
        },
        {
          "output_type": "display_data",
          "data": {
            "image/png": "[encoded data removed]",
            "text/plain": [
              "<Figure size 432x288 with 1 Axes>"
            ]
          },
          "metadata": {
            "tags": [],
            "needs_background": "light"
          }
        },
        {
          "output_type": "display_data",
          "data": {
            "image/png": "[encoded data removed]",
            "text/plain": [
              "<Figure size 432x288 with 1 Axes>"
            ]
          },
          "metadata": {
            "tags": [],
            "needs_background": "light"
          }
        },
        {
          "output_type": "display_data",
          "data": {
            "image/png": "[encoded data removed]",
            "text/plain": [
              "<Figure size 432x288 with 1 Axes>"
            ]
          },
          "metadata": {
            "tags": [],
            "needs_background": "light"
          }
        },
        {
          "output_type": "display_data",
          "data": {
            "image/png": "[encoded data removed]",
            "text/plain": [
              "<Figure size 432x288 with 1 Axes>"
            ]
          },
          "metadata": {
            "tags": [],
            "needs_background": "light"
          }
        },
        {
          "output_type": "display_data",
          "data": {
            "image/png": "[encoded data removed]",
            "text/plain": [
              "<Figure size 432x288 with 1 Axes>"
            ]
          },
          "metadata": {
            "tags": [],
            "needs_background": "light"
          }
        }
      ]
    },
    {
      "cell_type": "code",
      "metadata": {
        "colab": {
          "base_uri": "https://localhost:8080/",
          "height": 1000
        },
        "id": "wF4VRATXqq80",
        "outputId": "f78ed595-d398-4f8c-f913-02dca66f68bb"
      },
      "source": [
        "# visualizing Loan_Status for categorical variables \n",
        "for i in data_obj:\n",
        "    loan_status=pd.pivot_table(loan_data,index = [i],values = 'Loan_Status',aggfunc='mean').reset_index()\n",
        "    plt.figure(figsize = (10,7))\n",
        "    sns.barplot(x=loan_status.iloc[:,0], y=loan_status.iloc[:,1])\n",
        "    plt.title(i)\n",
        "    plt.ylabel('Loan_Status')\n",
        "    plt.show()"
      ],
      "execution_count": null,
      "outputs": [
        {
          "output_type": "display_data",
          "data": {
            "image/png": "[encoded data removed]",
            "text/plain": [
              "<Figure size 720x504 with 1 Axes>"
            ]
          },
          "metadata": {
            "tags": [],
            "needs_background": "light"
          }
        },
        {
          "output_type": "display_data",
          "data": {
            "image/png": "[encoded data removed]",
            "text/plain": [
              "<Figure size 720x504 with 1 Axes>"
            ]
          },
          "metadata": {
            "tags": [],
            "needs_background": "light"
          }
        },
        {
          "output_type": "display_data",
          "data": {
            "image/png": "[encoded data removed]",
            "text/plain": [
              "<Figure size 720x504 with 1 Axes>"
            ]
          },
          "metadata": {
            "tags": [],
            "needs_background": "light"
          }
        },
        {
          "output_type": "display_data",
          "data": {
            "image/png": "[encoded data removed]",
            "text/plain": [
              "<Figure size 720x504 with 1 Axes>"
            ]
          },
          "metadata": {
            "tags": [],
            "needs_background": "light"
          }
        },
        {
          "output_type": "display_data",
          "data": {
            "image/png": "[encoded data removed]",
            "text/plain": [
              "<Figure size 720x504 with 1 Axes>"
            ]
          },
          "metadata": {
            "tags": [],
            "needs_background": "light"
          }
        }
      ]
    },
    {
      "cell_type": "code",
      "metadata": {
        "colab": {
          "base_uri": "https://localhost:8080/",
          "height": 591
        },
        "id": "4pMmMr7Rr12U",
        "outputId": "0a3172b3-5585-46df-f79e-2da194797ac9"
      },
      "source": [
        "# visualizing correlations\n",
        "# correlation between ApplicantIncome and LoanAmount and Credit_History and Loan_Status is \n",
        "# 0.51 and 0.54 respectively\n",
        "# normally we would drop one variable per each pair, however this is self-explanatory that \n",
        "# these variables should be related\n",
        "plt.figure(figsize=(13,8))\n",
        "sns.heatmap(loan_data.corr().abs().round(2),annot=True, cmap = \"Blues\")"
      ],
      "execution_count": null,
      "outputs": [
        {
          "output_type": "execute_result",
          "data": {
            "text/plain": [
              "<matplotlib.axes._subplots.AxesSubplot at 0x7f4dcace7090>"
            ]
          },
          "metadata": {
            "tags": []
          },
          "execution_count": 21
        },
        {
          "output_type": "display_data",
          "data": {
            "image/png": "[encoded data removed]",
            "text/plain": [
              "<Figure size 936x576 with 2 Axes>"
            ]
          },
          "metadata": {
            "tags": [],
            "needs_background": "light"
          }
        }
      ]
    },
    {
      "cell_type": "markdown",
      "metadata": {
        "id": "HbNTCY4pucc8"
      },
      "source": [
        "# Model Building"
      ]
    },
    {
      "cell_type": "code",
      "metadata": {
        "id": "HAnRGxyP4WBE"
      },
      "source": [
        "# creating a subset of potentially useful variables for the model. \n",
        "data = loan_data[[\"Dependents\", \"ApplicantIncome\",\"CoapplicantIncome\",\"LoanAmount\",\"Loan_Amount_Term\",\"Credit_History\",\"Gender\",\"Married\",\"Education\",\n",
        "                   \"Self_Employed\",\"Property_Area\", \"Loan_Status\"]]"
      ],
      "execution_count": null,
      "outputs": []
    },
    {
      "cell_type": "code",
      "metadata": {
        "id": "drU4CTYy4uIA"
      },
      "source": [
        "# creating different datasets for numbers and objects for further usage \n",
        "data_num = data.select_dtypes(exclude=\"object\")\n",
        "data_obj = data.select_dtypes(include=\"object\")"
      ],
      "execution_count": null,
      "outputs": []
    },
    {
      "cell_type": "code",
      "metadata": {
        "id": "nAZFbq7C4xen"
      },
      "source": [
        "# getting dummy variables for objects and combining them with numbers\n",
        "data_dummies = pd.get_dummies(data_obj, prefix=data_obj.columns,drop_first=True)\n",
        "data = data_num.join(data_dummies)"
      ],
      "execution_count": null,
      "outputs": []
    },
    {
      "cell_type": "markdown",
      "metadata": {
        "id": "vt7TQbHN96h6"
      },
      "source": [
        "Model 1 | Logistic Regression with Statsmodels\n"
      ]
    },
    {
      "cell_type": "code",
      "metadata": {
        "id": "hwcfpDEY98bk"
      },
      "source": [
        "# defining dependent and independent variables\n",
        "Y = data[\"Loan_Status\"]\n",
        "X = data[[\"Dependents\", \"ApplicantIncome\",\"CoapplicantIncome\",\"LoanAmount\",\"Loan_Amount_Term\",\"Credit_History\",\"Gender_Male\",\"Married_Yes\",\"Education_Not Graduate\",\n",
        "                   \"Self_Employed_Yes\",\"Property_Area_Semiurban\", \"Property_Area_Urban\"]]"
      ],
      "execution_count": null,
      "outputs": []
    },
    {
      "cell_type": "code",
      "metadata": {
        "colab": {
          "base_uri": "https://localhost:8080/"
        },
        "id": "J-RR00jRwTrw",
        "outputId": "81d09fbc-9040-4f9d-85af-e94c889db163"
      },
      "source": [
        "# checking shape of X: 566 observations, and 12 independent variables\n",
        "X.shape"
      ],
      "execution_count": null,
      "outputs": [
        {
          "output_type": "execute_result",
          "data": {
            "text/plain": [
              "(566, 12)"
            ]
          },
          "metadata": {
            "tags": []
          },
          "execution_count": 26
        }
      ]
    },
    {
      "cell_type": "code",
      "metadata": {
        "id": "wp5xMgR0-FRp"
      },
      "source": [
        "# splitting the data into train and test (25% threshold)\n",
        "X0, X1, Y0, Y1 = train_test_split(X, Y, test_size = 0.25, random_state=42)"
      ],
      "execution_count": null,
      "outputs": []
    },
    {
      "cell_type": "code",
      "metadata": {
        "colab": {
          "base_uri": "https://localhost:8080/",
          "height": 509
        },
        "id": "bJPyvGu8-Jyt",
        "outputId": "928a8676-716d-4328-ecf6-228809d42749"
      },
      "source": [
        "# building and fitting Logistic Regression Model 1\n",
        "model1 = Logit(Y0, X0)\n",
        "results = model1.fit()\n",
        "results.summary()"
      ],
      "execution_count": null,
      "outputs": [
        {
          "output_type": "stream",
          "text": [
            "Optimization terminated successfully.\n",
            "         Current function value: 0.465686\n",
            "         Iterations 6\n"
          ],
          "name": "stdout"
        },
        {
          "output_type": "execute_result",
          "data": {
            "text/html": [
              "<table class=\"simpletable\">\n",
              "<caption>Logit Regression Results</caption>\n",
              "<tr>\n",
              "  <th>Dep. Variable:</th>      <td>Loan_Status</td>   <th>  No. Observations:  </th>  <td>   424</td>  \n",
              "</tr>\n",
              "<tr>\n",
              "  <th>Model:</th>                 <td>Logit</td>      <th>  Df Residuals:      </th>  <td>   412</td>  \n",
              "</tr>\n",
              "<tr>\n",
              "  <th>Method:</th>                 <td>MLE</td>       <th>  Df Model:          </th>  <td>    11</td>  \n",
              "</tr>\n",
              "<tr>\n",
              "  <th>Date:</th>            <td>Mon, 17 May 2021</td> <th>  Pseudo R-squ.:     </th>  <td>0.2658</td>  \n",
              "</tr>\n",
              "<tr>\n",
              "  <th>Time:</th>                <td>11:20:45</td>     <th>  Log-Likelihood:    </th> <td> -197.45</td> \n",
              "</tr>\n",
              "<tr>\n",
              "  <th>converged:</th>             <td>True</td>       <th>  LL-Null:           </th> <td> -268.95</td> \n",
              "</tr>\n",
              "<tr>\n",
              "  <th>Covariance Type:</th>     <td>nonrobust</td>    <th>  LLR p-value:       </th> <td>4.002e-25</td>\n",
              "</tr>\n",
              "</table>\n",
              "<table class=\"simpletable\">\n",
              "<tr>\n",
              "             <td></td>                <th>coef</th>     <th>std err</th>      <th>z</th>      <th>P>|z|</th>  <th>[0.025</th>    <th>0.975]</th>  \n",
              "</tr>\n",
              "<tr>\n",
              "  <th>Dependents</th>              <td>   -0.0909</td> <td>    0.142</td> <td>   -0.640</td> <td> 0.522</td> <td>   -0.369</td> <td>    0.187</td>\n",
              "</tr>\n",
              "<tr>\n",
              "  <th>ApplicantIncome</th>         <td> 1.234e-05</td> <td> 3.06e-05</td> <td>    0.404</td> <td> 0.686</td> <td>-4.76e-05</td> <td> 7.23e-05</td>\n",
              "</tr>\n",
              "<tr>\n",
              "  <th>CoapplicantIncome</th>       <td> 6.764e-05</td> <td> 7.84e-05</td> <td>    0.863</td> <td> 0.388</td> <td> -8.6e-05</td> <td>    0.000</td>\n",
              "</tr>\n",
              "<tr>\n",
              "  <th>LoanAmount</th>              <td>   -0.0030</td> <td>    0.002</td> <td>   -1.489</td> <td> 0.137</td> <td>   -0.007</td> <td>    0.001</td>\n",
              "</tr>\n",
              "<tr>\n",
              "  <th>Loan_Amount_Term</th>        <td>   -0.0049</td> <td>    0.001</td> <td>   -3.666</td> <td> 0.000</td> <td>   -0.008</td> <td>   -0.002</td>\n",
              "</tr>\n",
              "<tr>\n",
              "  <th>Credit_History</th>          <td>    3.4790</td> <td>    0.416</td> <td>    8.365</td> <td> 0.000</td> <td>    2.664</td> <td>    4.294</td>\n",
              "</tr>\n",
              "<tr>\n",
              "  <th>Gender_Male</th>             <td>   -0.6149</td> <td>    0.355</td> <td>   -1.733</td> <td> 0.083</td> <td>   -1.310</td> <td>    0.081</td>\n",
              "</tr>\n",
              "<tr>\n",
              "  <th>Married_Yes</th>             <td>    0.6485</td> <td>    0.302</td> <td>    2.147</td> <td> 0.032</td> <td>    0.057</td> <td>    1.240</td>\n",
              "</tr>\n",
              "<tr>\n",
              "  <th>Education_Not Graduate</th>  <td>   -0.6222</td> <td>    0.288</td> <td>   -2.157</td> <td> 0.031</td> <td>   -1.188</td> <td>   -0.057</td>\n",
              "</tr>\n",
              "<tr>\n",
              "  <th>Self_Employed_Yes</th>       <td>    0.0407</td> <td>    0.369</td> <td>    0.110</td> <td> 0.912</td> <td>   -0.683</td> <td>    0.764</td>\n",
              "</tr>\n",
              "<tr>\n",
              "  <th>Property_Area_Semiurban</th> <td>    0.6562</td> <td>    0.308</td> <td>    2.133</td> <td> 0.033</td> <td>    0.053</td> <td>    1.259</td>\n",
              "</tr>\n",
              "<tr>\n",
              "  <th>Property_Area_Urban</th>     <td>   -0.1067</td> <td>    0.302</td> <td>   -0.353</td> <td> 0.724</td> <td>   -0.699</td> <td>    0.486</td>\n",
              "</tr>\n",
              "</table>"
            ],
            "text/plain": [
              "<class 'statsmodels.iolib.summary.Summary'>\n",
              "\"\"\"\n",
              "                           Logit Regression Results                           \n",
              "==============================================================================\n",
              "Dep. Variable:            Loan_Status   No. Observations:                  424\n",
              "Model:                          Logit   Df Residuals:                      412\n",
              "Method:                           MLE   Df Model:                           11\n",
              "Date:                Mon, 17 May 2021   Pseudo R-squ.:                  0.2658\n",
              "Time:                        11:20:45   Log-Likelihood:                -197.45\n",
              "converged:                       True   LL-Null:                       -268.95\n",
              "Covariance Type:            nonrobust   LLR p-value:                 4.002e-25\n",
              "===========================================================================================\n",
              "                              coef    std err          z      P>|z|      [0.025      0.975]\n",
              "-------------------------------------------------------------------------------------------\n",
              "Dependents                 -0.0909      0.142     -0.640      0.522      -0.369       0.187\n",
              "ApplicantIncome          1.234e-05   3.06e-05      0.404      0.686   -4.76e-05    7.23e-05\n",
              "CoapplicantIncome        6.764e-05   7.84e-05      0.863      0.388    -8.6e-05       0.000\n",
              "LoanAmount                 -0.0030      0.002     -1.489      0.137      -0.007       0.001\n",
              "Loan_Amount_Term           -0.0049      0.001     -3.666      0.000      -0.008      -0.002\n",
              "Credit_History              3.4790      0.416      8.365      0.000       2.664       4.294\n",
              "Gender_Male                -0.6149      0.355     -1.733      0.083      -1.310       0.081\n",
              "Married_Yes                 0.6485      0.302      2.147      0.032       0.057       1.240\n",
              "Education_Not Graduate     -0.6222      0.288     -2.157      0.031      -1.188      -0.057\n",
              "Self_Employed_Yes           0.0407      0.369      0.110      0.912      -0.683       0.764\n",
              "Property_Area_Semiurban     0.6562      0.308      2.133      0.033       0.053       1.259\n",
              "Property_Area_Urban        -0.1067      0.302     -0.353      0.724      -0.699       0.486\n",
              "===========================================================================================\n",
              "\"\"\""
            ]
          },
          "metadata": {
            "tags": []
          },
          "execution_count": 28
        }
      ]
    },
    {
      "cell_type": "code",
      "metadata": {
        "id": "ai6hGDg7-N6d"
      },
      "source": [
        "# doing predictions \n",
        "Y1_hat=results.predict(X1)\n",
        "Y0_hat=results.predict(X0)"
      ],
      "execution_count": null,
      "outputs": []
    },
    {
      "cell_type": "code",
      "metadata": {
        "id": "cHcpO_bl-TTH"
      },
      "source": [
        "# setting threshold as 0.5\n",
        "# in case of our Y0_hat and Y1_hat being predicted more than 0.5, it will be\n",
        "# classified as 1, else 0\n",
        "threshold = 0.5\n",
        "Y0_class = np.where(Y0_hat > threshold, 1, 0)\n",
        "Y1_class = np.where(Y1_hat> threshold, 1, 0)"
      ],
      "execution_count": null,
      "outputs": []
    },
    {
      "cell_type": "code",
      "metadata": {
        "colab": {
          "base_uri": "https://localhost:8080/"
        },
        "id": "RJ_yM4bz-nQK",
        "outputId": "4cdb57fc-3e47-4557-e817-8c638a8bbb92"
      },
      "source": [
        "# printing ROC AUC score for Model 1\n",
        "# we may infer that our model without any feature engineering has a slight overfitting\n",
        "print(\"ROC AUC Model 1 train:\", roc_auc_score(Y0, Y0_hat))\n",
        "print(\"ROC AUC Model 1 test:\", roc_auc_score(Y1, Y1_hat))"
      ],
      "execution_count": null,
      "outputs": [
        {
          "output_type": "stream",
          "text": [
            "ROC AUC Model 1 train: 0.7879275653923542\n",
            "ROC AUC Model 1 test: 0.7138157894736842\n"
          ],
          "name": "stdout"
        }
      ]
    },
    {
      "cell_type": "markdown",
      "metadata": {
        "id": "fFmI3xR08596"
      },
      "source": [
        "Feature Engineering"
      ]
    },
    {
      "cell_type": "code",
      "metadata": {
        "id": "L9L6Ceq_--I9"
      },
      "source": [
        "# creation of new interaction term didn't improve the performance of the model\n",
        "#data['Dependents_sq']= data['Dependents'] ** 2"
      ],
      "execution_count": null,
      "outputs": []
    },
    {
      "cell_type": "code",
      "metadata": {
        "colab": {
          "base_uri": "https://localhost:8080/",
          "height": 349
        },
        "id": "aZ2RDP4i_Cct",
        "outputId": "e4f58831-b87a-425a-b3ca-5dbc9905025b"
      },
      "source": [
        "# whille checking distributions we noticed that distribution of ApplicantIncome \n",
        "# is not as normal as it could be \n",
        "sns.distplot(data.ApplicantIncome)\n",
        "plt.title(\"Distribution of ApplicantIncome\")\n",
        "plt.show()"
      ],
      "execution_count": null,
      "outputs": [
        {
          "output_type": "stream",
          "text": [
            "/usr/local/lib/python3.7/dist-packages/seaborn/distributions.py:2557: FutureWarning: `distplot` is a deprecated function and will be removed in a future version. Please adapt your code to use either `displot` (a figure-level function with similar flexibility) or `histplot` (an axes-level function for histograms).\n",
            "  warnings.warn(msg, FutureWarning)\n"
          ],
          "name": "stderr"
        },
        {
          "output_type": "display_data",
          "data": {
            "image/png": "[encoded data removed]",
            "text/plain": [
              "<Figure size 432x288 with 1 Axes>"
            ]
          },
          "metadata": {
            "tags": [],
            "needs_background": "light"
          }
        }
      ]
    },
    {
      "cell_type": "code",
      "metadata": {
        "id": "kXYFKRlh_HAS"
      },
      "source": [
        "# transforming it into logarithm\n",
        "data.ApplicantIncome = np.log(data.ApplicantIncome)"
      ],
      "execution_count": null,
      "outputs": []
    },
    {
      "cell_type": "code",
      "metadata": {
        "colab": {
          "base_uri": "https://localhost:8080/",
          "height": 349
        },
        "id": "qwHgYEjc_M9L",
        "outputId": "b887a486-aa3a-4b91-b4b5-b3b6895b7944"
      },
      "source": [
        "# checking distribution one more time; now it's normal\n",
        "sns.distplot(data.ApplicantIncome)\n",
        "plt.title(\"Distribution of ApplicantIncome\")\n",
        "plt.show()"
      ],
      "execution_count": null,
      "outputs": [
        {
          "output_type": "stream",
          "text": [
            "/usr/local/lib/python3.7/dist-packages/seaborn/distributions.py:2557: FutureWarning: `distplot` is a deprecated function and will be removed in a future version. Please adapt your code to use either `displot` (a figure-level function with similar flexibility) or `histplot` (an axes-level function for histograms).\n",
            "  warnings.warn(msg, FutureWarning)\n"
          ],
          "name": "stderr"
        },
        {
          "output_type": "display_data",
          "data": {
            "image/png": "[encoded data removed]",
            "text/plain": [
              "<Figure size 432x288 with 1 Axes>"
            ]
          },
          "metadata": {
            "tags": [],
            "needs_background": "light"
          }
        }
      ]
    },
    {
      "cell_type": "markdown",
      "metadata": {
        "id": "BAHqCCkw-BLU"
      },
      "source": [
        "Model 2 | Logistic Regression with Statsmodels"
      ]
    },
    {
      "cell_type": "code",
      "metadata": {
        "id": "P5YnfZLQ_Qpx"
      },
      "source": [
        "# defining dependent and independent variables \n",
        "# with the help of backward selection, removing one by one insignificant variables \n",
        "# including already transformed to logarithm ApplicantIncome variable \n",
        "Y = data[\"Loan_Status\"]\n",
        "X = data[[\"ApplicantIncome\",\"Credit_History\",\"Married_Yes\",\"Education_Not Graduate\",\n",
        "                   \"Property_Area_Semiurban\"]]"
      ],
      "execution_count": null,
      "outputs": []
    },
    {
      "cell_type": "code",
      "metadata": {
        "colab": {
          "base_uri": "https://localhost:8080/"
        },
        "id": "iQZogkHz-0n2",
        "outputId": "a1594717-7d36-4d13-9833-e6217fa3ca4e"
      },
      "source": [
        "# checking shape of X: 566 observations, and 5 independent variables\n",
        "X.shape"
      ],
      "execution_count": null,
      "outputs": [
        {
          "output_type": "execute_result",
          "data": {
            "text/plain": [
              "(566, 5)"
            ]
          },
          "metadata": {
            "tags": []
          },
          "execution_count": 52
        }
      ]
    },
    {
      "cell_type": "code",
      "metadata": {
        "id": "9RzT5E_d_VsO"
      },
      "source": [
        "# splitting the data into train and test (25% threshold)\n",
        "X0, X1, Y0, Y1 = train_test_split(X, Y, test_size = 0.25, random_state=42)"
      ],
      "execution_count": null,
      "outputs": []
    },
    {
      "cell_type": "code",
      "metadata": {
        "colab": {
          "base_uri": "https://localhost:8080/",
          "height": 362
        },
        "id": "YAVyGZpj_ZNr",
        "outputId": "1030e734-84f2-4ccb-fe63-5ed179fddbc9"
      },
      "source": [
        "# building and fitting Logistic Regression Model 2\n",
        "model2 = Logit(Y0, X0)\n",
        "results = model2.fit()\n",
        "results.summary()"
      ],
      "execution_count": null,
      "outputs": [
        {
          "output_type": "stream",
          "text": [
            "Optimization terminated successfully.\n",
            "         Current function value: 0.459936\n",
            "         Iterations 6\n"
          ],
          "name": "stdout"
        },
        {
          "output_type": "execute_result",
          "data": {
            "text/html": [
              "<table class=\"simpletable\">\n",
              "<caption>Logit Regression Results</caption>\n",
              "<tr>\n",
              "  <th>Dep. Variable:</th>      <td>Loan_Status</td>   <th>  No. Observations:  </th>  <td>   424</td>  \n",
              "</tr>\n",
              "<tr>\n",
              "  <th>Model:</th>                 <td>Logit</td>      <th>  Df Residuals:      </th>  <td>   419</td>  \n",
              "</tr>\n",
              "<tr>\n",
              "  <th>Method:</th>                 <td>MLE</td>       <th>  Df Model:          </th>  <td>     4</td>  \n",
              "</tr>\n",
              "<tr>\n",
              "  <th>Date:</th>            <td>Mon, 17 May 2021</td> <th>  Pseudo R-squ.:     </th>  <td>0.2749</td>  \n",
              "</tr>\n",
              "<tr>\n",
              "  <th>Time:</th>                <td>11:27:21</td>     <th>  Log-Likelihood:    </th> <td> -195.01</td> \n",
              "</tr>\n",
              "<tr>\n",
              "  <th>converged:</th>             <td>True</td>       <th>  LL-Null:           </th> <td> -268.95</td> \n",
              "</tr>\n",
              "<tr>\n",
              "  <th>Covariance Type:</th>     <td>nonrobust</td>    <th>  LLR p-value:       </th> <td>5.819e-31</td>\n",
              "</tr>\n",
              "</table>\n",
              "<table class=\"simpletable\">\n",
              "<tr>\n",
              "             <td></td>                <th>coef</th>     <th>std err</th>      <th>z</th>      <th>P>|z|</th>  <th>[0.025</th>    <th>0.975]</th>  \n",
              "</tr>\n",
              "<tr>\n",
              "  <th>ApplicantIncome</th>         <td>   -0.3450</td> <td>    0.057</td> <td>   -6.033</td> <td> 0.000</td> <td>   -0.457</td> <td>   -0.233</td>\n",
              "</tr>\n",
              "<tr>\n",
              "  <th>Credit_History</th>          <td>    3.7701</td> <td>    0.460</td> <td>    8.187</td> <td> 0.000</td> <td>    2.868</td> <td>    4.673</td>\n",
              "</tr>\n",
              "<tr>\n",
              "  <th>Married_Yes</th>             <td>    0.5255</td> <td>    0.258</td> <td>    2.037</td> <td> 0.042</td> <td>    0.020</td> <td>    1.031</td>\n",
              "</tr>\n",
              "<tr>\n",
              "  <th>Education_Not Graduate</th>  <td>   -0.5422</td> <td>    0.281</td> <td>   -1.926</td> <td> 0.054</td> <td>   -1.094</td> <td>    0.009</td>\n",
              "</tr>\n",
              "<tr>\n",
              "  <th>Property_Area_Semiurban</th> <td>    0.8060</td> <td>    0.275</td> <td>    2.929</td> <td> 0.003</td> <td>    0.267</td> <td>    1.345</td>\n",
              "</tr>\n",
              "</table>"
            ],
            "text/plain": [
              "<class 'statsmodels.iolib.summary.Summary'>\n",
              "\"\"\"\n",
              "                           Logit Regression Results                           \n",
              "==============================================================================\n",
              "Dep. Variable:            Loan_Status   No. Observations:                  424\n",
              "Model:                          Logit   Df Residuals:                      419\n",
              "Method:                           MLE   Df Model:                            4\n",
              "Date:                Mon, 17 May 2021   Pseudo R-squ.:                  0.2749\n",
              "Time:                        11:27:21   Log-Likelihood:                -195.01\n",
              "converged:                       True   LL-Null:                       -268.95\n",
              "Covariance Type:            nonrobust   LLR p-value:                 5.819e-31\n",
              "===========================================================================================\n",
              "                              coef    std err          z      P>|z|      [0.025      0.975]\n",
              "-------------------------------------------------------------------------------------------\n",
              "ApplicantIncome            -0.3450      0.057     -6.033      0.000      -0.457      -0.233\n",
              "Credit_History              3.7701      0.460      8.187      0.000       2.868       4.673\n",
              "Married_Yes                 0.5255      0.258      2.037      0.042       0.020       1.031\n",
              "Education_Not Graduate     -0.5422      0.281     -1.926      0.054      -1.094       0.009\n",
              "Property_Area_Semiurban     0.8060      0.275      2.929      0.003       0.267       1.345\n",
              "===========================================================================================\n",
              "\"\"\""
            ]
          },
          "metadata": {
            "tags": []
          },
          "execution_count": 54
        }
      ]
    },
    {
      "cell_type": "code",
      "metadata": {
        "colab": {
          "base_uri": "https://localhost:8080/",
          "height": 227
        },
        "id": "Ck1rDBV5-6MM",
        "outputId": "7993ba71-d6b5-499b-b32d-3ab74feffa44"
      },
      "source": [
        "results.get_margeff().summary()"
      ],
      "execution_count": null,
      "outputs": [
        {
          "output_type": "execute_result",
          "data": {
            "text/html": [
              "<table class=\"simpletable\">\n",
              "<caption>Logit Marginal Effects</caption>\n",
              "<tr>\n",
              "  <th>Dep. Variable:</th> <td>Loan_Status</td>\n",
              "</tr>\n",
              "<tr>\n",
              "  <th>Method:</th>           <td>dydx</td>    \n",
              "</tr>\n",
              "<tr>\n",
              "  <th>At:</th>              <td>overall</td>  \n",
              "</tr>\n",
              "</table>\n",
              "<table class=\"simpletable\">\n",
              "<tr>\n",
              "             <th></th>                <th>dy/dx</th>    <th>std err</th>      <th>z</th>      <th>P>|z|</th>  <th>[0.025</th>    <th>0.975]</th>  \n",
              "</tr>\n",
              "<tr>\n",
              "  <th>ApplicantIncome</th>         <td>   -0.0505</td> <td>    0.007</td> <td>   -6.782</td> <td> 0.000</td> <td>   -0.065</td> <td>   -0.036</td>\n",
              "</tr>\n",
              "<tr>\n",
              "  <th>Credit_History</th>          <td>    0.5523</td> <td>    0.050</td> <td>   11.038</td> <td> 0.000</td> <td>    0.454</td> <td>    0.650</td>\n",
              "</tr>\n",
              "<tr>\n",
              "  <th>Married_Yes</th>             <td>    0.0770</td> <td>    0.037</td> <td>    2.061</td> <td> 0.039</td> <td>    0.004</td> <td>    0.150</td>\n",
              "</tr>\n",
              "<tr>\n",
              "  <th>Education_Not Graduate</th>  <td>   -0.0794</td> <td>    0.041</td> <td>   -1.948</td> <td> 0.051</td> <td>   -0.159</td> <td>    0.001</td>\n",
              "</tr>\n",
              "<tr>\n",
              "  <th>Property_Area_Semiurban</th> <td>    0.1181</td> <td>    0.040</td> <td>    2.989</td> <td> 0.003</td> <td>    0.041</td> <td>    0.195</td>\n",
              "</tr>\n",
              "</table>"
            ],
            "text/plain": [
              "<class 'statsmodels.iolib.summary.Summary'>\n",
              "\"\"\"\n",
              "        Logit Marginal Effects       \n",
              "=====================================\n",
              "Dep. Variable:            Loan_Status\n",
              "Method:                          dydx\n",
              "At:                           overall\n",
              "===========================================================================================\n",
              "                             dy/dx    std err          z      P>|z|      [0.025      0.975]\n",
              "-------------------------------------------------------------------------------------------\n",
              "ApplicantIncome            -0.0505      0.007     -6.782      0.000      -0.065      -0.036\n",
              "Credit_History              0.5523      0.050     11.038      0.000       0.454       0.650\n",
              "Married_Yes                 0.0770      0.037      2.061      0.039       0.004       0.150\n",
              "Education_Not Graduate     -0.0794      0.041     -1.948      0.051      -0.159       0.001\n",
              "Property_Area_Semiurban     0.1181      0.040      2.989      0.003       0.041       0.195\n",
              "===========================================================================================\n",
              "\"\"\""
            ]
          },
          "metadata": {
            "tags": []
          },
          "execution_count": 55
        }
      ]
    },
    {
      "cell_type": "code",
      "metadata": {
        "id": "BSiMKRLF_cvv"
      },
      "source": [
        "# doing predictions \n",
        "Y1_hat=results.predict(X1)\n",
        "Y0_hat=results.predict(X0)"
      ],
      "execution_count": null,
      "outputs": []
    },
    {
      "cell_type": "code",
      "metadata": {
        "id": "rTQUc8ik_f7w"
      },
      "source": [
        "# setting threshold as 0.5\n",
        "# in case of our Y0_hat and Y1_hat being predicted more than 0.5, it will be\n",
        "# classified as 1, else 0\n",
        "threshold = 0.5\n",
        "Y0_class = np.where(Y0_hat > threshold, 1, 0)\n",
        "Y1_class = np.where(Y1_hat> threshold, 1, 0)"
      ],
      "execution_count": null,
      "outputs": []
    },
    {
      "cell_type": "code",
      "metadata": {
        "colab": {
          "base_uri": "https://localhost:8080/"
        },
        "id": "vgUIBrUv_k07",
        "outputId": "e48617cc-147c-4a2d-cfb9-2e0d009855ec"
      },
      "source": [
        "# printing ROC AUC score for Model 2 \n",
        "# we see that we improved our model, now it overfits less\n",
        "# this is our winning model\n",
        "print(\"ROC AUC Model 2 train:\", roc_auc_score(Y0, Y0_hat))\n",
        "print(\"ROC AUC Model 2 test:\", roc_auc_score(Y1, Y1_hat))"
      ],
      "execution_count": null,
      "outputs": [
        {
          "output_type": "stream",
          "text": [
            "ROC AUC Model 2 train: 0.789826458752515\n",
            "ROC AUC Model 2 test: 0.736589068825911\n"
          ],
          "name": "stdout"
        }
      ]
    },
    {
      "cell_type": "code",
      "metadata": {
        "colab": {
          "base_uri": "https://localhost:8080/"
        },
        "id": "GqUDRreMFR7d",
        "outputId": "6df419eb-ac2e-439c-fffe-b26ef4a3e7f1"
      },
      "source": [
        "# creating confusion matrix for train set\n",
        "cm_train = confusion_matrix(Y0, Y0_class).T\n",
        "print(cm_train)"
      ],
      "execution_count": null,
      "outputs": [
        {
          "output_type": "stream",
          "text": [
            "[[ 64   5]\n",
            " [ 76 279]]\n"
          ],
          "name": "stdout"
        }
      ]
    },
    {
      "cell_type": "code",
      "metadata": {
        "colab": {
          "base_uri": "https://localhost:8080/"
        },
        "id": "xj0aHppnFVIf",
        "outputId": "b599aeb0-bd7b-490b-8bd1-05469b9416f4"
      },
      "source": [
        "# calculating overall accuracy, recall, and specificity for train set\n",
        "print(\"Accuracy_train:\", (cm_train[0,0]+cm_train[1,1])/len(Y0))\n",
        "print(\"Sensitivity_train:\",cm_train[1,1]/(cm_train[1,1]+cm_train[0,1]))\n",
        "print(\"Specificity_train:\",cm_train[0,0]/(cm_train[0,0]+cm_train[1,0]))"
      ],
      "execution_count": null,
      "outputs": [
        {
          "output_type": "stream",
          "text": [
            "Accuracy_train: 0.8089622641509434\n",
            "Sensitivity_train: 0.9823943661971831\n",
            "Specificity_train: 0.45714285714285713\n"
          ],
          "name": "stdout"
        }
      ]
    },
    {
      "cell_type": "code",
      "metadata": {
        "colab": {
          "base_uri": "https://localhost:8080/"
        },
        "id": "fSeq-WOKFau0",
        "outputId": "a50d2958-4ac6-4f28-947d-442164f94892"
      },
      "source": [
        "# creating confusion matrix for test set\n",
        "cm_test = confusion_matrix(Y1,Y1_class).T\n",
        "print(cm_test)"
      ],
      "execution_count": null,
      "outputs": [
        {
          "output_type": "stream",
          "text": [
            "[[14  5]\n",
            " [24 99]]\n"
          ],
          "name": "stdout"
        }
      ]
    },
    {
      "cell_type": "code",
      "metadata": {
        "colab": {
          "base_uri": "https://localhost:8080/"
        },
        "id": "nxkulgSNFj0k",
        "outputId": "df4c6868-0f51-4097-c95c-78f173271bca"
      },
      "source": [
        "# calculating overall accuracy, recall, and specificity for test set\n",
        "print(\"Accuracy_test:\", (cm_test[0,0]+cm_test[1,1])/len(Y1))\n",
        "print(\"Sensitivity_test:\",cm_test[1,1]/(cm_test[1,1]+cm_test[0,1]))\n",
        "print(\"Specificity_test:\",cm_test[0,0]/(cm_test[0,0]+cm_test[1,0]))"
      ],
      "execution_count": null,
      "outputs": [
        {
          "output_type": "stream",
          "text": [
            "Accuracy_test: 0.795774647887324\n",
            "Sensitivity_test: 0.9519230769230769\n",
            "Specificity_test: 0.3684210526315789\n"
          ],
          "name": "stdout"
        }
      ]
    },
    {
      "cell_type": "code",
      "metadata": {
        "colab": {
          "base_uri": "https://localhost:8080/"
        },
        "id": "2_aqV-p8FpZU",
        "outputId": "7aee3fd0-c5a4-4876-d657-7a2da3c2404e"
      },
      "source": [
        "# calculating everything with the help of classification report\n",
        "print(\"Logistic Regression Train:\")\n",
        "print(classification_report(Y0,Y0_class))\n",
        "print(\"Logistic Regression Test:\")\n",
        "print(classification_report(Y1,Y1_class))"
      ],
      "execution_count": null,
      "outputs": [
        {
          "output_type": "stream",
          "text": [
            "Logistic Regression Train:\n",
            "              precision    recall  f1-score   support\n",
            "\n",
            "           0       0.93      0.46      0.61       140\n",
            "           1       0.79      0.98      0.87       284\n",
            "\n",
            "    accuracy                           0.81       424\n",
            "   macro avg       0.86      0.72      0.74       424\n",
            "weighted avg       0.83      0.81      0.79       424\n",
            "\n",
            "Logistic Regression Test:\n",
            "              precision    recall  f1-score   support\n",
            "\n",
            "           0       0.74      0.37      0.49        38\n",
            "           1       0.80      0.95      0.87       104\n",
            "\n",
            "    accuracy                           0.80       142\n",
            "   macro avg       0.77      0.66      0.68       142\n",
            "weighted avg       0.79      0.80      0.77       142\n",
            "\n"
          ],
          "name": "stdout"
        }
      ]
    },
    {
      "cell_type": "code",
      "metadata": {
        "id": "Qxu2FWSMGD4w"
      },
      "source": [
        "# setting up the needed metrics\n",
        "FPR, TPR, thresholds=roc_curve(Y1, Y1_hat)"
      ],
      "execution_count": null,
      "outputs": []
    },
    {
      "cell_type": "code",
      "metadata": {
        "colab": {
          "base_uri": "https://localhost:8080/",
          "height": 279
        },
        "id": "T9S4yNHjGiq1",
        "outputId": "4e583db6-dbe0-4517-e541-bd0bc0ee0742"
      },
      "source": [
        "# plotting ROC AUC curve for Model 2\n",
        "plt.plot(FPR, TPR, label=f\"ROC AUC{roc_auc_score(Y1, Y1_hat).round(2)}\")\n",
        "plt.plot([0,1],[0,1])\n",
        "plt.legend(loc=\"lower right\")\n",
        "plt.xlabel(\"FPR\")\n",
        "plt.ylabel(\"TPR\")\n",
        "plt.show()"
      ],
      "execution_count": null,
      "outputs": [
        {
          "output_type": "display_data",
          "data": {
            "image/png": "[encoded data removed]",
            "text/plain": [
              "<Figure size 432x288 with 1 Axes>"
            ]
          },
          "metadata": {
            "tags": [],
            "needs_background": "light"
          }
        }
      ]
    },
    {
      "cell_type": "markdown",
      "metadata": {
        "id": "xTLYip67A2pg"
      },
      "source": [
        "Model 3 | Hyperparameter tuning and CV for Logistic Regression"
      ]
    },
    {
      "cell_type": "code",
      "metadata": {
        "id": "mCfRIH6xC1Mb"
      },
      "source": [
        "# building GridSearch with Logistic Regression\n",
        "logit_1 = LogisticRegression(random_state=42)\n",
        "param_logit = {'class_weight':[None,'balanced'],\n",
        "            'C':np.linspace(1,10,50),\n",
        "            'penalty':['l1', 'l2', 'elasticnet', 'none']}\n",
        "gridsearch = GridSearchCV(estimator=LogisticRegression(random_state = 42,n_jobs = -1),\n",
        "                        param_grid=param_logit,\n",
        "                        cv=5,scoring='roc_auc',verbose=1,n_jobs = -1)"
      ],
      "execution_count": null,
      "outputs": []
    },
    {
      "cell_type": "code",
      "metadata": {
        "colab": {
          "base_uri": "https://localhost:8080/"
        },
        "id": "ZxrXWwihDEGB",
        "outputId": "8e472c7e-99e3-4c61-9a07-13f0217071ff"
      },
      "source": [
        "# fitting GridSearch\n",
        "gridsearch.fit(X, Y)"
      ],
      "execution_count": null,
      "outputs": [
        {
          "output_type": "stream",
          "text": [
            "Fitting 5 folds for each of 400 candidates, totalling 2000 fits\n"
          ],
          "name": "stdout"
        },
        {
          "output_type": "stream",
          "text": [
            "[Parallel(n_jobs=-1)]: Using backend LokyBackend with 2 concurrent workers.\n",
            "[Parallel(n_jobs=-1)]: Done 202 tasks      | elapsed:    6.9s\n",
            "[Parallel(n_jobs=-1)]: Done 1402 tasks      | elapsed:   39.5s\n",
            "[Parallel(n_jobs=-1)]: Done 2000 out of 2000 | elapsed:   55.7s finished\n"
          ],
          "name": "stderr"
        },
        {
          "output_type": "execute_result",
          "data": {
            "text/plain": [
              "GridSearchCV(cv=5, error_score=nan,\n",
              "             estimator=LogisticRegression(C=1.0, class_weight=None, dual=False,\n",
              "                                          fit_intercept=True,\n",
              "                                          intercept_scaling=1, l1_ratio=None,\n",
              "                                          max_iter=100, multi_class='auto',\n",
              "                                          n_jobs=-1, penalty='l2',\n",
              "                                          random_state=42, solver='lbfgs',\n",
              "                                          tol=0.0001, verbose=0,\n",
              "                                          warm_start=False),\n",
              "             iid='deprecated', n_jobs=-1,\n",
              "             param_grid={'C': array([ 1.        ,  1.18367347,  1.36734694...\n",
              "        6.51020408,  6.69387755,  6.87755102,  7.06122449,  7.24489796,\n",
              "        7.42857143,  7.6122449 ,  7.79591837,  7.97959184,  8.16326531,\n",
              "        8.34693878,  8.53061224,  8.71428571,  8.89795918,  9.08163265,\n",
              "        9.26530612,  9.44897959,  9.63265306,  9.81632653, 10.        ]),\n",
              "                         'class_weight': [None, 'balanced'],\n",
              "                         'penalty': ['l1', 'l2', 'elasticnet', 'none']},\n",
              "             pre_dispatch='2*n_jobs', refit=True, return_train_score=False,\n",
              "             scoring='roc_auc', verbose=1)"
            ]
          },
          "metadata": {
            "tags": []
          },
          "execution_count": 44
        }
      ]
    },
    {
      "cell_type": "code",
      "metadata": {
        "colab": {
          "base_uri": "https://localhost:8080/"
        },
        "id": "nWu0JfpVDgJT",
        "outputId": "e3ac3f70-961e-42e2-849b-89e82e5993f0"
      },
      "source": [
        "# understanding what the best parameters are\n",
        "best_params = gridsearch.best_params_\n",
        "best_params"
      ],
      "execution_count": null,
      "outputs": [
        {
          "output_type": "execute_result",
          "data": {
            "text/plain": [
              "{'C': 1.9183673469387754, 'class_weight': 'balanced', 'penalty': 'l2'}"
            ]
          },
          "metadata": {
            "tags": []
          },
          "execution_count": 45
        }
      ]
    },
    {
      "cell_type": "code",
      "metadata": {
        "id": "bIyhTQLODnlX"
      },
      "source": [
        "# building Logistic Regression with the best parameters\n",
        "model3 = LogisticRegression(class_weight=best_params['class_weight'],C=best_params['C'],\n",
        "                          penalty = best_params['penalty'],random_state = 42,n_jobs = -1).fit(X0,Y0)\n",
        "Y0_prob = model3.predict_proba(X0)[:,-1]\n",
        "Y1_prob = model3.predict_proba(X1)[:,-1]\n",
        "Y0_class=Y0_prob>0.5\n",
        "Y1_class=Y1_prob>0.5"
      ],
      "execution_count": null,
      "outputs": []
    },
    {
      "cell_type": "code",
      "metadata": {
        "colab": {
          "base_uri": "https://localhost:8080/"
        },
        "id": "p4TT0LfRD2Ij",
        "outputId": "8154d79f-78a7-44e1-fc40-4987192e24cc"
      },
      "source": [
        "# printing ROC AUC score for Model 3 \n",
        "print(\"ROC AUC Model 3 train:\",roc_auc_score(Y0,Y0_prob))\n",
        "print(\"ROC AUC Model 3 test:\",roc_auc_score(Y1,Y1_prob))"
      ],
      "execution_count": null,
      "outputs": [
        {
          "output_type": "stream",
          "text": [
            "ROC AUC Model 3 train: 0.7903043259557344\n",
            "ROC AUC Model 3 test: 0.7279858299595141\n"
          ],
          "name": "stdout"
        }
      ]
    },
    {
      "cell_type": "code",
      "metadata": {
        "colab": {
          "base_uri": "https://localhost:8080/"
        },
        "id": "0WXBZGXX574c",
        "outputId": "5eeaca43-ab0d-4559-c275-a4fb084cc7a1"
      },
      "source": [
        "# getting CV scores\n",
        "CV_scores = cross_val_score(model3,X,Y,cv=5,scoring=\"roc_auc\")\n",
        "print(CV_scores)"
      ],
      "execution_count": null,
      "outputs": [
        {
          "output_type": "stream",
          "text": [
            "[0.79665242 0.67692308 0.76391941 0.82972583 0.78499278]\n"
          ],
          "name": "stdout"
        }
      ]
    },
    {
      "cell_type": "code",
      "metadata": {
        "colab": {
          "base_uri": "https://localhost:8080/"
        },
        "id": "xhbIDc-b6mop",
        "outputId": "4b16c98c-a5a1-4125-8e48-fcc0330fbf83"
      },
      "source": [
        "# printing Mean 5-fold ROC AUC score for Model 3\n",
        "print(\"Mean 5-fold ROC AUC score for Model 3:\", np.mean(CV_scores))"
      ],
      "execution_count": null,
      "outputs": [
        {
          "output_type": "stream",
          "text": [
            "Mean 5-fold ROC AUC score for Model 3: 0.7704427054427054\n"
          ],
          "name": "stdout"
        }
      ]
    },
    {
      "cell_type": "code",
      "metadata": {
        "colab": {
          "base_uri": "https://localhost:8080/"
        },
        "id": "BRFQPc0f7FaF",
        "outputId": "7d8d6be6-e6dc-4ca6-909f-85e31700e7c7"
      },
      "source": [
        "# creating confusion matrix for train set\n",
        "cm_train = confusion_matrix(Y0, Y0_class).T\n",
        "print(cm_train)"
      ],
      "execution_count": null,
      "outputs": [
        {
          "output_type": "stream",
          "text": [
            "[[ 73  25]\n",
            " [ 67 259]]\n"
          ],
          "name": "stdout"
        }
      ]
    },
    {
      "cell_type": "code",
      "metadata": {
        "colab": {
          "base_uri": "https://localhost:8080/"
        },
        "id": "Lb10VdpR7Mlo",
        "outputId": "6e7a3b50-0a3e-46b5-a132-39857ddbe19c"
      },
      "source": [
        "# calculating overall accuracy, recall, and specificity for train set\n",
        "print(\"Accuracy_train:\", (cm_train[0,0]+cm_train[1,1])/len(Y0))\n",
        "print(\"Sensitivity_train:\",cm_train[1,1]/(cm_train[1,1]+cm_train[0,1]))\n",
        "print(\"Specificity_train:\",cm_train[0,0]/(cm_train[0,0]+cm_train[1,0]))"
      ],
      "execution_count": null,
      "outputs": [
        {
          "output_type": "stream",
          "text": [
            "Accuracy_train: 0.7830188679245284\n",
            "Sensitivity_train: 0.9119718309859155\n",
            "Specificity_train: 0.5214285714285715\n"
          ],
          "name": "stdout"
        }
      ]
    },
    {
      "cell_type": "code",
      "metadata": {
        "id": "I7fdr2xO7cBz"
      },
      "source": [
        "# creating confusion matrix for test set\n",
        "cm_test=confusion_matrix(Y1,Y1_class).T"
      ],
      "execution_count": null,
      "outputs": []
    },
    {
      "cell_type": "code",
      "metadata": {
        "colab": {
          "base_uri": "https://localhost:8080/"
        },
        "id": "1i-OJbMP7it4",
        "outputId": "f217e592-0242-42fb-e185-e3536c2f2a12"
      },
      "source": [
        "# calculating overall accuracy, recall, and specificity for test set\n",
        "print(\"Accuracy_test:\", (cm_test[0,0]+cm_test[1,1])/len(Y1))\n",
        "print(\"Sensitivity_test:\",cm_test[1,1]/(cm_test[1,1]+cm_test[0,1]))\n",
        "print(\"Specificity_test:\",cm_test[0,0]/(cm_test[0,0]+cm_test[1,0]))"
      ],
      "execution_count": null,
      "outputs": [
        {
          "output_type": "stream",
          "text": [
            "Accuracy_test: 0.7887323943661971\n",
            "Sensitivity_test: 0.9326923076923077\n",
            "Specificity_test: 0.39473684210526316\n"
          ],
          "name": "stdout"
        }
      ]
    },
    {
      "cell_type": "code",
      "metadata": {
        "colab": {
          "base_uri": "https://localhost:8080/"
        },
        "id": "mfTy-URz5muG",
        "outputId": "4c5b47c5-9a03-475b-9f65-41918152e32e"
      },
      "source": [
        "# calculating everything with the help of classification report\n",
        "print(\"Logistic Regression Train:\")\n",
        "print(classification_report(Y0,Y0_class))\n",
        "print(\"Logistic Regression Test:\")\n",
        "print(classification_report(Y1,Y1_class))"
      ],
      "execution_count": null,
      "outputs": [
        {
          "output_type": "stream",
          "text": [
            "Logistic Regression Train:\n",
            "              precision    recall  f1-score   support\n",
            "\n",
            "           0       0.74      0.52      0.61       140\n",
            "           1       0.79      0.91      0.85       284\n",
            "\n",
            "    accuracy                           0.78       424\n",
            "   macro avg       0.77      0.72      0.73       424\n",
            "weighted avg       0.78      0.78      0.77       424\n",
            "\n",
            "Logistic Regression Test:\n",
            "              precision    recall  f1-score   support\n",
            "\n",
            "           0       0.68      0.39      0.50        38\n",
            "           1       0.81      0.93      0.87       104\n",
            "\n",
            "    accuracy                           0.79       142\n",
            "   macro avg       0.75      0.66      0.68       142\n",
            "weighted avg       0.77      0.79      0.77       142\n",
            "\n"
          ],
          "name": "stdout"
        }
      ]
    },
    {
      "cell_type": "code",
      "metadata": {
        "id": "CRX2UX9AmE9F"
      },
      "source": [
        "# setting up the needed metrics\n",
        "FPR, TPR, thresholds=roc_curve(Y1, Y1_prob)"
      ],
      "execution_count": null,
      "outputs": []
    },
    {
      "cell_type": "code",
      "metadata": {
        "colab": {
          "base_uri": "https://localhost:8080/",
          "height": 279
        },
        "id": "C2ZmxX2tmMXc",
        "outputId": "722741ec-69f3-4db0-c974-a7e0aa5dcf87"
      },
      "source": [
        "# plotting ROC AUC curve for Model 3\n",
        "plt.plot(FPR, TPR, label=f\"ROC AUC{roc_auc_score(Y1, Y1_prob).round(2)}\")\n",
        "plt.plot([0,1],[0,1])\n",
        "plt.legend(loc=\"lower right\")\n",
        "plt.xlabel(\"FPR\")\n",
        "plt.ylabel(\"TPR\")\n",
        "plt.show()"
      ],
      "execution_count": null,
      "outputs": [
        {
          "output_type": "display_data",
          "data": {
            "image/png": "[encoded data removed]",
            "text/plain": [
              "<Figure size 432x288 with 1 Axes>"
            ]
          },
          "metadata": {
            "tags": [],
            "needs_background": "light"
          }
        }
      ]
    },
    {
      "cell_type": "markdown",
      "metadata": {
        "id": "lPgWeVbNLTDc"
      },
      "source": [
        "Model 4 | Decision Tree Classification | Fully Grown DT"
      ]
    },
    {
      "cell_type": "code",
      "metadata": {
        "colab": {
          "base_uri": "https://localhost:8080/"
        },
        "id": "FUPzRay8Enet",
        "outputId": "8e59bc28-7442-4a38-f576-307f9100df76"
      },
      "source": [
        "# building and fitting Model 4 with Decision Tree Classifier\n",
        "model4 = DecisionTreeClassifier(random_state=42)\n",
        "model4.fit(X0,Y0)"
      ],
      "execution_count": null,
      "outputs": [
        {
          "output_type": "execute_result",
          "data": {
            "text/plain": [
              "DecisionTreeClassifier(ccp_alpha=0.0, class_weight=None, criterion='gini',\n",
              "                       max_depth=None, max_features=None, max_leaf_nodes=None,\n",
              "                       min_impurity_decrease=0.0, min_impurity_split=None,\n",
              "                       min_samples_leaf=1, min_samples_split=2,\n",
              "                       min_weight_fraction_leaf=0.0, presort='deprecated',\n",
              "                       random_state=42, splitter='best')"
            ]
          },
          "metadata": {
            "tags": []
          },
          "execution_count": 129
        }
      ]
    },
    {
      "cell_type": "code",
      "metadata": {
        "id": "g_yFNpUBEqFb"
      },
      "source": [
        "# calculating and getting probabilities \n",
        "Y0_dt = model4.predict_proba(X0)[:,1]\n",
        "Y1_dt = model4.predict_proba(X1)[:,1]"
      ],
      "execution_count": null,
      "outputs": []
    },
    {
      "cell_type": "code",
      "metadata": {
        "colab": {
          "base_uri": "https://localhost:8080/"
        },
        "id": "IFy2Z8D0ExFe",
        "outputId": "4b709a53-9ba0-403b-b86f-f2835664e0a2"
      },
      "source": [
        "# printing ROC AUC score for Model 4\n",
        "# even though the train set performs well, we have a huge overfitting \n",
        "print(\"ROC AUC for Model 4 train:\",roc_auc_score(Y0,Y0_dt))\n",
        "print(\"ROC AUC for Model 4 test:\",roc_auc_score(Y1,Y1_dt))"
      ],
      "execution_count": null,
      "outputs": [
        {
          "output_type": "stream",
          "text": [
            "ROC AUC for Model 4 train: 0.9999371227364185\n",
            "ROC AUC for Model 4 test: 0.697494939271255\n"
          ],
          "name": "stdout"
        }
      ]
    },
    {
      "cell_type": "markdown",
      "metadata": {
        "id": "4-t1PCf2NMD3"
      },
      "source": [
        "Model 5 | Decision Tree Classification | Manual DT"
      ]
    },
    {
      "cell_type": "code",
      "metadata": {
        "id": "hj1vLqIjE6EU",
        "colab": {
          "base_uri": "https://localhost:8080/"
        },
        "outputId": "25e92352-f7b4-467e-d610-c451d230aeb3"
      },
      "source": [
        "# building and fitting Model 5 with Decision Tree Classifier by manually setting up\n",
        "# hypermparameter values\n",
        "model5 = DecisionTreeClassifier(random_state=42, max_depth=10,min_samples_leaf=200)\n",
        "model5.fit(X0,Y0)"
      ],
      "execution_count": null,
      "outputs": [
        {
          "output_type": "execute_result",
          "data": {
            "text/plain": [
              "DecisionTreeClassifier(ccp_alpha=0.0, class_weight=None, criterion='gini',\n",
              "                       max_depth=10, max_features=None, max_leaf_nodes=None,\n",
              "                       min_impurity_decrease=0.0, min_impurity_split=None,\n",
              "                       min_samples_leaf=200, min_samples_split=2,\n",
              "                       min_weight_fraction_leaf=0.0, presort='deprecated',\n",
              "                       random_state=42, splitter='best')"
            ]
          },
          "metadata": {
            "tags": []
          },
          "execution_count": 132
        }
      ]
    },
    {
      "cell_type": "code",
      "metadata": {
        "id": "a7hQfbAkE-lw"
      },
      "source": [
        "# calculating and getting probabilities \n",
        "Y0_dt1 = model5.predict_proba(X0)[:,1]\n",
        "Y1_dt1 = model5.predict_proba(X1)[:,1]"
      ],
      "execution_count": null,
      "outputs": []
    },
    {
      "cell_type": "code",
      "metadata": {
        "colab": {
          "base_uri": "https://localhost:8080/"
        },
        "id": "z6eZJZh4FCTO",
        "outputId": "9d796233-dce3-4ca8-dfbf-66c4dda0fa1d"
      },
      "source": [
        "# printing ROC AUC score for Model 5\n",
        "# we may see the following pattern: there is almost no overfitting, however, \n",
        "# the results for our train test drastically dicreased \n",
        "print(\"ROC AUC for Model 5 train:\",roc_auc_score(Y0,Y0_dt1))\n",
        "print(\"ROC AUC for Model 5 test:\",roc_auc_score(Y1,Y1_dt1))"
      ],
      "execution_count": null,
      "outputs": [
        {
          "output_type": "stream",
          "text": [
            "ROC AUC for Model 5 train: 0.5229879275653924\n",
            "ROC AUC for Model 5 test: 0.4951923076923077\n"
          ],
          "name": "stdout"
        }
      ]
    },
    {
      "cell_type": "markdown",
      "metadata": {
        "id": "Ixaeav_QO1Ug"
      },
      "source": [
        "Model 6 | Decision Tree Classification | Tuned DT with GridSearch"
      ]
    },
    {
      "cell_type": "code",
      "metadata": {
        "id": "HWA8qdoUFJto"
      },
      "source": [
        "# setting up the ranges for hyperparameters\n",
        "param_dt = {\"max_depth\":range(1,15),\"min_samples_leaf\":range(10,150,10),\n",
        "          \"class_weight\":[\"balanced\", None]}"
      ],
      "execution_count": null,
      "outputs": []
    },
    {
      "cell_type": "code",
      "metadata": {
        "colab": {
          "base_uri": "https://localhost:8080/"
        },
        "id": "AV43a2I4FQJX",
        "outputId": "254e97b3-8b8e-4d1b-fd31-845830b9479f"
      },
      "source": [
        "# building GridSearch with Decision Tree Classification and fitting it  \n",
        "gs_dt = GridSearchCV(estimator=model4,param_grid=param_dt,scoring=\"roc_auc\",cv=5,n_jobs=-1)\n",
        "gs_dt.fit(X,Y)"
      ],
      "execution_count": null,
      "outputs": [
        {
          "output_type": "execute_result",
          "data": {
            "text/plain": [
              "GridSearchCV(cv=5, error_score=nan,\n",
              "             estimator=DecisionTreeClassifier(ccp_alpha=0.0, class_weight=None,\n",
              "                                              criterion='gini', max_depth=None,\n",
              "                                              max_features=None,\n",
              "                                              max_leaf_nodes=None,\n",
              "                                              min_impurity_decrease=0.0,\n",
              "                                              min_impurity_split=None,\n",
              "                                              min_samples_leaf=1,\n",
              "                                              min_samples_split=2,\n",
              "                                              min_weight_fraction_leaf=0.0,\n",
              "                                              presort='deprecated',\n",
              "                                              random_state=42,\n",
              "                                              splitter='best'),\n",
              "             iid='deprecated', n_jobs=-1,\n",
              "             param_grid={'class_weight': ['balanced', None],\n",
              "                         'max_depth': range(1, 15),\n",
              "                         'min_samples_leaf': range(10, 150, 10)},\n",
              "             pre_dispatch='2*n_jobs', refit=True, return_train_score=False,\n",
              "             scoring='roc_auc', verbose=0)"
            ]
          },
          "metadata": {
            "tags": []
          },
          "execution_count": 136
        }
      ]
    },
    {
      "cell_type": "code",
      "metadata": {
        "colab": {
          "base_uri": "https://localhost:8080/"
        },
        "id": "5YnHRPgTFYff",
        "outputId": "d81c0e6a-4045-47a0-c217-20725d0cce65"
      },
      "source": [
        "# understanding what the best parameters are\n",
        "best_params = gs_dt.best_params_\n",
        "best_params"
      ],
      "execution_count": null,
      "outputs": [
        {
          "output_type": "execute_result",
          "data": {
            "text/plain": [
              "{'class_weight': None, 'max_depth': 7, 'min_samples_leaf': 20}"
            ]
          },
          "metadata": {
            "tags": []
          },
          "execution_count": 137
        }
      ]
    },
    {
      "cell_type": "code",
      "metadata": {
        "id": "rAQS4eoNFcTI"
      },
      "source": [
        "# building Decision Tree Classification with the best parameters\n",
        "model6 = DecisionTreeClassifier(class_weight=best_params['class_weight'],max_depth=best_params['max_depth'],\n",
        "                             min_samples_leaf=best_params['min_samples_leaf'], random_state=42).fit(X0,Y0)\n",
        "Y0_dt_grid = model6.predict_proba(X0)[:,1]\n",
        "Y1_dt_grid = model6.predict_proba(X1)[:,1]\n",
        "Y0_class=Y0_prob>0.5\n",
        "Y1_class=Y1_prob>0.5"
      ],
      "execution_count": null,
      "outputs": []
    },
    {
      "cell_type": "code",
      "metadata": {
        "colab": {
          "base_uri": "https://localhost:8080/"
        },
        "id": "U_2GCybPFgE2",
        "outputId": "d6cebfbe-31dc-422f-a676-128b2e4d3148"
      },
      "source": [
        "# printing ROC AUC score for Model 6 \n",
        "print(\"ROC AUC score for train:\",roc_auc_score(Y0,Y0_dt_grid))\n",
        "print(\"ROC AUC score for test:\",roc_auc_score(Y1,Y1_dt_grid))"
      ],
      "execution_count": null,
      "outputs": [
        {
          "output_type": "stream",
          "text": [
            "ROC AUC score for train: 0.8497987927565392\n",
            "ROC AUC score for test: 0.6818066801619432\n"
          ],
          "name": "stdout"
        }
      ]
    },
    {
      "cell_type": "code",
      "metadata": {
        "colab": {
          "base_uri": "https://localhost:8080/"
        },
        "id": "tkgQi6rIRbjF",
        "outputId": "65576d8c-7e4c-4c77-b526-6e55604e41ad"
      },
      "source": [
        "# printing Mean 5-fold ROC AUC score for Model 6\n",
        "print(\"Mean 5-fold ROC AUC score for Model 6:\",np.mean(cross_val_score(estimator=model6, X=X,y=Y,cv=5, scoring=\"roc_auc\")))"
      ],
      "execution_count": null,
      "outputs": [
        {
          "output_type": "stream",
          "text": [
            "Mean 5-fold ROC AUC score for Model 6: 0.7548658748658749\n"
          ],
          "name": "stdout"
        }
      ]
    },
    {
      "cell_type": "code",
      "metadata": {
        "colab": {
          "base_uri": "https://localhost:8080/",
          "height": 204
        },
        "id": "aNSBcQXVGo2W",
        "outputId": "1968492b-301d-4204-d016-94c5de39c2be"
      },
      "source": [
        "# reviewing feature importances of the winning model\n",
        "feat_imp = pd.DataFrame(model6.feature_importances_,index=X.columns,\n",
        "                      columns=[\"Feature_imp\"])\n",
        "feat_imp = feat_imp.sort_values(by=\"Feature_imp\",ascending=False)\n",
        "feat_imp.head(5)"
      ],
      "execution_count": null,
      "outputs": [
        {
          "output_type": "execute_result",
          "data": {
            "text/html": [
              "<div>\n",
              "<style scoped>\n",
              "    .dataframe tbody tr th:only-of-type {\n",
              "        vertical-align: middle;\n",
              "    }\n",
              "\n",
              "    .dataframe tbody tr th {\n",
              "        vertical-align: top;\n",
              "    }\n",
              "\n",
              "    .dataframe thead th {\n",
              "        text-align: right;\n",
              "    }\n",
              "</style>\n",
              "<table border=\"1\" class=\"dataframe\">\n",
              "  <thead>\n",
              "    <tr style=\"text-align: right;\">\n",
              "      <th></th>\n",
              "      <th>Feature_imp</th>\n",
              "    </tr>\n",
              "  </thead>\n",
              "  <tbody>\n",
              "    <tr>\n",
              "      <th>Credit_History</th>\n",
              "      <td>0.808483</td>\n",
              "    </tr>\n",
              "    <tr>\n",
              "      <th>ApplicantIncome</th>\n",
              "      <td>0.116326</td>\n",
              "    </tr>\n",
              "    <tr>\n",
              "      <th>Married_Yes</th>\n",
              "      <td>0.043689</td>\n",
              "    </tr>\n",
              "    <tr>\n",
              "      <th>Property_Area_Semiurban</th>\n",
              "      <td>0.031502</td>\n",
              "    </tr>\n",
              "    <tr>\n",
              "      <th>Education_Not Graduate</th>\n",
              "      <td>0.000000</td>\n",
              "    </tr>\n",
              "  </tbody>\n",
              "</table>\n",
              "</div>"
            ],
            "text/plain": [
              "                         Feature_imp\n",
              "Credit_History              0.808483\n",
              "ApplicantIncome             0.116326\n",
              "Married_Yes                 0.043689\n",
              "Property_Area_Semiurban     0.031502\n",
              "Education_Not Graduate      0.000000"
            ]
          },
          "metadata": {
            "tags": []
          },
          "execution_count": 71
        }
      ]
    },
    {
      "cell_type": "code",
      "metadata": {
        "id": "n2ssV8s0miTh"
      },
      "source": [
        "# setting up the needed metrics\n",
        "FPR, TPR, thresholds=roc_curve(Y1, Y1_dt_grid)"
      ],
      "execution_count": null,
      "outputs": []
    },
    {
      "cell_type": "code",
      "metadata": {
        "colab": {
          "base_uri": "https://localhost:8080/",
          "height": 279
        },
        "id": "blMXZ0bompgg",
        "outputId": "bb1317c2-eeed-4055-e98d-98e42edee9af"
      },
      "source": [
        "# plotting ROC AUC curve for Model 6\n",
        "plt.plot(FPR, TPR, label=f\"ROC AUC{roc_auc_score(Y1, Y1_dt_grid).round(2)}\")\n",
        "plt.plot([0,1],[0,1])\n",
        "plt.legend(loc=\"lower right\")\n",
        "plt.xlabel(\"FPR\")\n",
        "plt.ylabel(\"TPR\")\n",
        "plt.show()"
      ],
      "execution_count": null,
      "outputs": [
        {
          "output_type": "display_data",
          "data": {
            "image/png": "[encoded data removed]",
            "text/plain": [
              "<Figure size 432x288 with 1 Axes>"
            ]
          },
          "metadata": {
            "tags": [],
            "needs_background": "light"
          }
        }
      ]
    },
    {
      "cell_type": "code",
      "metadata": {
        "colab": {
          "base_uri": "https://localhost:8080/",
          "height": 281
        },
        "id": "cWgJNBLZGvI3",
        "outputId": "61752b6a-2e81-4213-eb12-b66c5972d0b1"
      },
      "source": [
        "# visualizing feature importances\n",
        "feat_imp.head(5).sort_values('Feature_imp').plot.barh()\n",
        "plt.title(\"Most important features\")\n",
        "plt.show()"
      ],
      "execution_count": null,
      "outputs": [
        {
          "output_type": "display_data",
          "data": {
            "image/png": "[encoded data removed]",
            "text/plain": [
              "<Figure size 432x288 with 1 Axes>"
            ]
          },
          "metadata": {
            "tags": [],
            "needs_background": "light"
          }
        }
      ]
    },
    {
      "cell_type": "markdown",
      "metadata": {
        "id": "G-2rIBFZAIBj"
      },
      "source": [
        "Model 7 | Decision Tree Classification | Removing 0 feature importances"
      ]
    },
    {
      "cell_type": "code",
      "metadata": {
        "colab": {
          "base_uri": "https://localhost:8080/"
        },
        "id": "17FfCIhJTeRL",
        "outputId": "c58634b4-f81b-4df9-c3ee-987a320572f6"
      },
      "source": [
        "# removing feature importances equal to 0 to see whether the model will perform \n",
        "# better \n",
        "to_remove = feat_imp[feat_imp.Feature_imp==0].index\n",
        "print(to_remove)"
      ],
      "execution_count": null,
      "outputs": [
        {
          "output_type": "stream",
          "text": [
            "Index(['Education_Not Graduate'], dtype='object')\n"
          ],
          "name": "stdout"
        }
      ]
    },
    {
      "cell_type": "code",
      "metadata": {
        "id": "k0k1tokdTjGT"
      },
      "source": [
        "# building Decision Tree Classification with the best parameters\n",
        "model7 = DecisionTreeClassifier(class_weight=best_params['class_weight'],max_depth=best_params['max_depth'],\n",
        "                             min_samples_leaf=best_params['min_samples_leaf'], random_state=42).fit(X0.drop(to_remove,axis=1),Y0)\n",
        "\n",
        "Y0_dt_grid1 = model7.predict_proba(X0.drop(to_remove,axis=1))[:,1]\n",
        "Y1_dt_grid1 = model7.predict_proba(X1.drop(to_remove,axis=1))[:,1]"
      ],
      "execution_count": null,
      "outputs": []
    },
    {
      "cell_type": "code",
      "metadata": {
        "colab": {
          "base_uri": "https://localhost:8080/"
        },
        "id": "VRqnnDn-TnfL",
        "outputId": "9082eeca-a31b-459f-9aa3-dcaff45300bd"
      },
      "source": [
        "# printing ROC AUC score for Model 7 \n",
        "# we see that the results from removing Education_Not_Graduate remained the same\n",
        "print(\"ROC_AUC Train:\",roc_auc_score(Y0,Y0_dt_grid1))\n",
        "print(\"ROC_AUC Test:\",roc_auc_score(Y1,Y1_dt_grid1))"
      ],
      "execution_count": null,
      "outputs": [
        {
          "output_type": "stream",
          "text": [
            "ROC_AUC Train: 0.8497987927565392\n",
            "ROC_AUC Test: 0.6818066801619432\n"
          ],
          "name": "stdout"
        }
      ]
    },
    {
      "cell_type": "code",
      "metadata": {
        "colab": {
          "base_uri": "https://localhost:8080/"
        },
        "id": "EUHRDesc5YzP",
        "outputId": "49f885e0-f868-4683-d84e-9f5096aa675a"
      },
      "source": [
        "# printing Mean 5-fold ROC AUC score for Model 7\n",
        "print(\"Mean 5-fold ROC AUC score for Model 7:\",np.mean(cross_val_score(estimator=model6, X=X,y=Y,cv=5, scoring=\"roc_auc\")))"
      ],
      "execution_count": null,
      "outputs": [
        {
          "output_type": "stream",
          "text": [
            "Mean 5-fold ROC AUC score for Model 6: 0.7548658748658749\n"
          ],
          "name": "stdout"
        }
      ]
    },
    {
      "cell_type": "code",
      "metadata": {
        "id": "RAFwO37RMiGQ"
      },
      "source": [
        ""
      ],
      "execution_count": null,
      "outputs": []
    }
  ]
}